{
  "nbformat": 4,
  "nbformat_minor": 0,
  "metadata": {
    "colab": {
      "provenance": []
    },
    "kernelspec": {
      "name": "python3",
      "display_name": "Python 3"
    },
    "accelerator": "GPU"
  },
  "cells": [
    {
      "cell_type": "markdown",
      "metadata": {
        "id": "2Xy-cYSe_SeM"
      },
      "source": [
        "## Import"
      ]
    },
    {
      "cell_type": "code",
      "metadata": {
        "id": "m4iPFOIA_LXU"
      },
      "source": [
        "import torch\n",
        "import torchvision\n",
        "import torch.nn as nn\n",
        "import torch.optim as optim\n",
        "import torchvision.datasets as datasets\n",
        "import torchvision.transforms as transforms\n",
        "from torch.utils.data import DataLoader\n",
        "\n",
        "import itertools\n",
        "import matplotlib.pyplot as plt\n",
        "import numpy as np\n",
        "\n",
        "import subprocess\n",
        "import os"
      ],
      "execution_count": null,
      "outputs": []
    },
    {
      "cell_type": "markdown",
      "metadata": {
        "id": "_u8DKdVP_Wc8"
      },
      "source": [
        "## Discriminator"
      ]
    },
    {
      "cell_type": "code",
      "metadata": {
        "id": "DDvJtgwt_WES"
      },
      "source": [
        "class Discriminator(nn.Module):\n",
        "    '''\n",
        "        Discriminator model\n",
        "    '''\n",
        "    def __init__(self, in_features, out_features):\n",
        "        super().__init__()\n",
        "\n",
        "        self.hidden_0 = nn.Sequential(\n",
        "            nn.Linear(in_features, 1024),\n",
        "            nn.LeakyReLU(0.2),\n",
        "            nn.Dropout(0.5),\n",
        "        )\n",
        "        self.hidden_1 = nn.Sequential(\n",
        "            nn.Linear(1024, 512),\n",
        "            nn.LeakyReLU(0.2),\n",
        "            nn.Dropout(0.4)\n",
        "        )\n",
        "        self.hidden_2 = nn.Sequential(\n",
        "            nn.Linear(512, 256),\n",
        "            nn.LeakyReLU(0.2),\n",
        "            nn.Dropout(0.4)\n",
        "        )\n",
        "        self.out = nn.Sequential(\n",
        "            torch.nn.Linear(256, out_features),\n",
        "            nn.Sigmoid()\n",
        "        )\n",
        "\n",
        "    def forward(self, x):\n",
        "        x = self.hidden_0(x)\n",
        "        x = self.hidden_1(x)\n",
        "        x = self.hidden_2(x)\n",
        "        x = self.out(x)\n",
        "        return x"
      ],
      "execution_count": null,
      "outputs": []
    },
    {
      "cell_type": "markdown",
      "metadata": {
        "id": "_V6hdFMp_hft"
      },
      "source": [
        "## Generator"
      ]
    },
    {
      "cell_type": "code",
      "metadata": {
        "id": "K0Npg1fO_jxx"
      },
      "source": [
        "class Generator(nn.Module):\n",
        "    '''\n",
        "        Generator model\n",
        "    '''\n",
        "    def __init__(self, in_features, out_features):\n",
        "        super().__init__()\n",
        "\n",
        "        self.hidden_0 = nn.Sequential(\n",
        "            nn.Linear(in_features, 256),\n",
        "            nn.BatchNorm1d(256),\n",
        "            nn.ReLU()\n",
        "        )\n",
        "        self.hidden_1 = nn.Sequential(\n",
        "            nn.Linear(256, 512),\n",
        "            nn.BatchNorm1d(512),\n",
        "            nn.ReLU()\n",
        "        )\n",
        "        self.hidden_2 = nn.Sequential(\n",
        "            nn.Linear(512, 1024),\n",
        "            nn.BatchNorm1d(1024),\n",
        "            nn.ReLU()\n",
        "        )\n",
        "        self.out = nn.Sequential(\n",
        "            nn.Linear(1024, out_features),\n",
        "            nn.Tanh()\n",
        "        )\n",
        "\n",
        "    def forward(self, x):\n",
        "        x = self.hidden_0(x)\n",
        "        x = self.hidden_1(x)\n",
        "        x = self.hidden_2(x)\n",
        "        x = self.out(x)\n",
        "        return x"
      ],
      "execution_count": null,
      "outputs": []
    },
    {
      "cell_type": "markdown",
      "metadata": {
        "id": "C_hC_av2_uqR"
      },
      "source": [
        "## Noise + Image Convert Helper"
      ]
    },
    {
      "cell_type": "code",
      "metadata": {
        "id": "VZYDnVNN_wbF"
      },
      "source": [
        "def noise(data_size):\n",
        "    '''\n",
        "    Generates data_size number of random noise\n",
        "    '''\n",
        "    noise_features = 100\n",
        "    n = torch.randn(data_size, noise_features)\n",
        "    return n\n",
        "\n",
        "def im_convert(tensor):\n",
        "    '''\n",
        "        Convert Tensor to displable format\n",
        "    '''\n",
        "    image = tensor.to(\"cpu\").clone().detach()\n",
        "    image = image.numpy()\n",
        "    image = image.transpose(1,2,0)\n",
        "    image = image * np.array((0.5, 0.5, 0.5)) + np.array((0.5, 0.5, 0.5))\n",
        "    image = image.clip(0, 1)\n",
        "\n",
        "    return image"
      ],
      "execution_count": null,
      "outputs": []
    },
    {
      "cell_type": "markdown",
      "metadata": {
        "id": "FB0s_N7e_5cM"
      },
      "source": [
        "## Loading training dataset"
      ]
    },
    {
      "cell_type": "code",
      "metadata": {
        "id": "uoa8ngf7AA_-",
        "colab": {
          "base_uri": "https://localhost:8080/"
        },
        "outputId": "c02e4477-ee52-4a1d-de32-1f42d13967a3"
      },
      "source": [
        "# Loading training dataset\n",
        "\n",
        "transforms = transforms.Compose([\n",
        "    transforms.ToTensor(),\n",
        "    transforms.Normalize((0.5,),(0.5,)),\n",
        "    ])\n",
        "\n",
        "dataset = datasets.FashionMNIST(root='dataset/', train=True,\n",
        "                        transform=transforms, download=True)\n",
        "dataloader = DataLoader(dataset, batch_size=128,\n",
        "                        drop_last=True,\n",
        "                        shuffle=True)"
      ],
      "execution_count": null,
      "outputs": [
        {
          "output_type": "stream",
          "name": "stdout",
          "text": [
            "Downloading http://fashion-mnist.s3-website.eu-central-1.amazonaws.com/train-images-idx3-ubyte.gz\n",
            "Downloading http://fashion-mnist.s3-website.eu-central-1.amazonaws.com/train-images-idx3-ubyte.gz to dataset/FashionMNIST/raw/train-images-idx3-ubyte.gz\n"
          ]
        },
        {
          "output_type": "stream",
          "name": "stderr",
          "text": [
            "100%|██████████| 26421880/26421880 [00:03<00:00, 8086483.93it/s] \n"
          ]
        },
        {
          "output_type": "stream",
          "name": "stdout",
          "text": [
            "Extracting dataset/FashionMNIST/raw/train-images-idx3-ubyte.gz to dataset/FashionMNIST/raw\n",
            "\n",
            "Downloading http://fashion-mnist.s3-website.eu-central-1.amazonaws.com/train-labels-idx1-ubyte.gz\n",
            "Downloading http://fashion-mnist.s3-website.eu-central-1.amazonaws.com/train-labels-idx1-ubyte.gz to dataset/FashionMNIST/raw/train-labels-idx1-ubyte.gz\n"
          ]
        },
        {
          "output_type": "stream",
          "name": "stderr",
          "text": [
            "100%|██████████| 29515/29515 [00:00<00:00, 140266.04it/s]\n"
          ]
        },
        {
          "output_type": "stream",
          "name": "stdout",
          "text": [
            "Extracting dataset/FashionMNIST/raw/train-labels-idx1-ubyte.gz to dataset/FashionMNIST/raw\n",
            "\n",
            "Downloading http://fashion-mnist.s3-website.eu-central-1.amazonaws.com/t10k-images-idx3-ubyte.gz\n",
            "Downloading http://fashion-mnist.s3-website.eu-central-1.amazonaws.com/t10k-images-idx3-ubyte.gz to dataset/FashionMNIST/raw/t10k-images-idx3-ubyte.gz\n"
          ]
        },
        {
          "output_type": "stream",
          "name": "stderr",
          "text": [
            "100%|██████████| 4422102/4422102 [00:01<00:00, 2645882.28it/s]\n"
          ]
        },
        {
          "output_type": "stream",
          "name": "stdout",
          "text": [
            "Extracting dataset/FashionMNIST/raw/t10k-images-idx3-ubyte.gz to dataset/FashionMNIST/raw\n",
            "\n",
            "Downloading http://fashion-mnist.s3-website.eu-central-1.amazonaws.com/t10k-labels-idx1-ubyte.gz\n",
            "Downloading http://fashion-mnist.s3-website.eu-central-1.amazonaws.com/t10k-labels-idx1-ubyte.gz to dataset/FashionMNIST/raw/t10k-labels-idx1-ubyte.gz\n"
          ]
        },
        {
          "output_type": "stream",
          "name": "stderr",
          "text": [
            "100%|██████████| 5148/5148 [00:00<00:00, 5639142.59it/s]"
          ]
        },
        {
          "output_type": "stream",
          "name": "stdout",
          "text": [
            "Extracting dataset/FashionMNIST/raw/t10k-labels-idx1-ubyte.gz to dataset/FashionMNIST/raw\n",
            "\n"
          ]
        },
        {
          "output_type": "stream",
          "name": "stderr",
          "text": [
            "\n"
          ]
        }
      ]
    },
    {
      "cell_type": "markdown",
      "metadata": {
        "id": "l0ETqOm7_RJg"
      },
      "source": []
    },
    {
      "cell_type": "markdown",
      "metadata": {
        "id": "0WOAzxuLAHLc"
      },
      "source": [
        "## Load Models"
      ]
    },
    {
      "cell_type": "code",
      "metadata": {
        "id": "_A-H3GhDAKVD"
      },
      "source": [
        "device = torch.device(\"cuda\" if torch.cuda.is_available() else \"cpu\")\n",
        "\n",
        "# Create discriminator and generator\n",
        "discriminator = Discriminator(in_features=784, out_features=1).to(device)\n",
        "generator = Generator(in_features=100, out_features=784).to(device)\n",
        "\n",
        "# Create 100 test_noise for visualizing how well our model perform.\n",
        "test_noise = noise(100).to(device)"
      ],
      "execution_count": null,
      "outputs": []
    },
    {
      "cell_type": "markdown",
      "metadata": {
        "id": "IMYQU2OiAsAL"
      },
      "source": [
        "## Optimizer"
      ]
    },
    {
      "cell_type": "code",
      "metadata": {
        "id": "3UTqrR1jAtq1"
      },
      "source": [
        "# Optimizers and loss\n",
        "lr = 0.0002\n",
        "optimizerD = optim.Adam(discriminator.parameters(), lr=lr, betas=(0.5, 0.999))\n",
        "optimizerG = optim.Adam(generator.parameters(), lr=lr, betas=(0.5, 0.999))\n",
        "criterion = nn.BCELoss()"
      ],
      "execution_count": null,
      "outputs": []
    },
    {
      "cell_type": "markdown",
      "metadata": {
        "id": "FQsRj4hIKNBW"
      },
      "source": [
        "## True and False Labels"
      ]
    },
    {
      "cell_type": "code",
      "metadata": {
        "id": "Tl90Rbb-KPum"
      },
      "source": [
        "# True and False Labels.  128 is the batch size\n",
        "true_label = torch.ones(128, 1).to(device)\n",
        "false_label = torch.zeros(128, 1).to(device)"
      ],
      "execution_count": null,
      "outputs": []
    },
    {
      "cell_type": "markdown",
      "metadata": {
        "id": "o4xB4QsFKTNI"
      },
      "source": [
        "## Create folder to hold result"
      ]
    },
    {
      "cell_type": "code",
      "metadata": {
        "id": "IhV19R3IKVwn"
      },
      "source": [
        "# Create folder to hold result\n",
        "result_folder = 'gan1-result'\n",
        "if not os.path.exists(result_folder ):\n",
        "    os.makedirs(result_folder )"
      ],
      "execution_count": null,
      "outputs": []
    },
    {
      "cell_type": "markdown",
      "metadata": {
        "id": "DiG7zzVrAwi4"
      },
      "source": [
        "## Training in action"
      ]
    },
    {
      "cell_type": "code",
      "metadata": {
        "id": "2ZJOpWkfA0Kx",
        "colab": {
          "base_uri": "https://localhost:8080/",
          "height": 1000
        },
        "outputId": "448d5cf4-60e5-4e2d-a222-6bbde912eb23"
      },
      "source": [
        "# Training in action\n",
        "print(\"Starting Training...\")\n",
        "\n",
        "num_epochs = 35\n",
        "discriminator_loss_history = []\n",
        "generator_loss_history = []\n",
        "\n",
        "for epoch in range(1, num_epochs+1):\n",
        "    discriminator_batch_loss = 0.0\n",
        "    generator_batch_loss = 0.0\n",
        "    for batch_idx, (data, targets) in enumerate(dataloader):\n",
        "        data = data.to(device)\n",
        "        batch_size = data.shape[0]\n",
        "\n",
        "        discriminator.zero_grad()\n",
        "\n",
        "        # Train discriminator to get better at differentiate real/fake data\n",
        "        # 1.1 Train discriminator on real data\n",
        "        d_real_predict = discriminator(data.view(data.shape[0], -1))\n",
        "        d_real_loss = criterion(d_real_predict, true_label)\n",
        "\n",
        "\n",
        "        # 1.2 Train discriminator on fake data from generator\n",
        "        d_fake_noise = noise(batch_size).to(device)\n",
        "        # Generate outputs and detach to avoid training the Generator on these labels\n",
        "        d_fake_input = generator(d_fake_noise).detach()\n",
        "        d_fake_predict = discriminator(d_fake_input)\n",
        "        d_fake_loss = criterion(d_fake_predict, false_label)\n",
        "\n",
        "        # 1.3 combine real loss and fake loss for discriminator\n",
        "        discriminator_loss = d_real_loss + d_fake_loss\n",
        "        discriminator_batch_loss += discriminator_loss.item()\n",
        "        discriminator_loss.backward()\n",
        "        optimizerD.step()\n",
        "\n",
        "\n",
        "        # Train generator to get better at deceiving discriminator\n",
        "        g_fake_noise = noise(batch_size).to(device)\n",
        "        g_fake_input = generator(g_fake_noise)\n",
        "        generator.zero_grad()\n",
        "        # Get prediction from discriminator\n",
        "        g_fake_predict = discriminator(g_fake_input)\n",
        "        generator_loss = criterion(g_fake_predict, true_label)\n",
        "        generator_batch_loss += generator_loss.item()\n",
        "        generator_loss.backward()\n",
        "        optimizerG.step()\n",
        "\n",
        "        # print loss every 100 batches\n",
        "        if (batch_idx + 1) % 100 == 0:\n",
        "\n",
        "            print(f'Epoch [{epoch}/{num_epochs}]  Batch {batch_idx + 1}/{len(dataloader)} \\\n",
        "                    Loss D: {discriminator_loss:.4f}, Loss G: {generator_loss:.4f}')\n",
        "\n",
        "\n",
        "    discriminator_loss_history.append(discriminator_batch_loss / (batch_idx + 1))\n",
        "    generator_loss_history.append(generator_batch_loss / (batch_idx + 1))\n",
        "\n",
        "    with torch.no_grad():\n",
        "\n",
        "        fake_images = generator(test_noise)\n",
        "\n",
        "        size_figure_grid = 10\n",
        "        fig, ax = plt.subplots(size_figure_grid, size_figure_grid, figsize=(5, 5))\n",
        "        for i, j in itertools.product(range(size_figure_grid), range(size_figure_grid)):\n",
        "            ax[i, j].get_xaxis().set_visible(False)\n",
        "            ax[i, j].get_yaxis().set_visible(False)\n",
        "\n",
        "        for k in range(10*10):\n",
        "            i = k // 10\n",
        "            j = k % 10\n",
        "            ax[i, j].cla()\n",
        "            ax[i, j].imshow(im_convert(fake_images[k].view(1,28,28)))\n",
        "\n",
        "        label = 'Epoch {0}'.format(epoch)\n",
        "        fig.text(0.5, 0.04, label, ha='center')\n",
        "        plt.savefig(result_folder + \"/gan%03d.png\" % epoch)\n",
        "        plt.show(block=False)\n",
        "        plt.pause(1.5)\n",
        "        plt.close(fig)"
      ],
      "execution_count": null,
      "outputs": []
    },
    {
      "cell_type": "markdown",
      "metadata": {
        "id": "QvkjtN7QK6aU"
      },
      "source": [
        "## Create gif, 2 frames per second"
      ]
    },
    {
      "cell_type": "code",
      "metadata": {
        "id": "f5qffrUnBppx",
        "colab": {
          "base_uri": "https://localhost:8080/"
        },
        "outputId": "741f73df-4f09-4926-e140-0a512a509d54"
      },
      "source": [
        "# create gif, 2 frames per second\n",
        "subprocess.call([\n",
        "    'ffmpeg', '-framerate', '2', '-i', \\\n",
        "    result_folder + '/gan%03d.png', result_folder+'/output.gif'\n",
        "])"
      ],
      "execution_count": null,
      "outputs": [
        {
          "output_type": "execute_result",
          "data": {
            "text/plain": [
              "0"
            ]
          },
          "metadata": {},
          "execution_count": 11
        }
      ]
    },
    {
      "cell_type": "markdown",
      "metadata": {
        "id": "J_LvSJo4NkEH"
      },
      "source": [
        "## Plot Loss History"
      ]
    },
    {
      "cell_type": "code",
      "metadata": {
        "id": "EPMSusJ9Nmmv",
        "colab": {
          "base_uri": "https://localhost:8080/",
          "height": 430
        },
        "outputId": "b15ecc27-33d6-440c-c5e6-c5df67231ae2"
      },
      "source": [
        "plt.clf()\n",
        "plt.plot(discriminator_loss_history, label='discriminator loss')\n",
        "plt.plot(generator_loss_history, label='generator loss')\n",
        "plt.savefig(result_folder + \"/loss-history.png\")\n",
        "plt.legend()\n",
        "plt.show()"
      ],
      "execution_count": null,
      "outputs": [
        {
          "output_type": "display_data",
          "data": {
            "text/plain": [
              "<Figure size 640x480 with 1 Axes>"
            ],
            "image/png": "[encoded data removed]"
          },
          "metadata": {}
        }
      ]
    },
    {
      "cell_type": "code",
      "metadata": {
        "id": "Oau2IZuJNovo"
      },
      "source": [
        "## Download Output From Google Colab to local\n",
        "from google.colab import files\n",
        "files.download(result_folder)"
      ],
      "execution_count": null,
      "outputs": []
    }
  ]
}